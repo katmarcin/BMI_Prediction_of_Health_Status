{
 "cells": [
  {
   "cell_type": "code",
   "execution_count": 1,
   "id": "be0249c8",
   "metadata": {},
   "outputs": [],
   "source": [
    "import warnings\n",
    "warnings.filterwarnings('ignore')\n",
    "import pandas as pd\n",
    "import numpy as np\n",
    "from collections import Counter\n",
    "from sklearn.metrics import balanced_accuracy_score\n",
    "from sklearn.metrics import confusion_matrix\n",
    "from imblearn.metrics import classification_report_imbalanced"
   ]
  },
  {
   "cell_type": "markdown",
   "id": "8a922fd3",
   "metadata": {},
   "source": [
    "### Load and clean the data"
   ]
  },
  {
   "cell_type": "code",
   "execution_count": 2,
   "id": "b63835e7",
   "metadata": {
    "scrolled": true
   },
   "outputs": [
    {
     "data": {
      "text/html": [
       "<div>\n",
       "<style scoped>\n",
       "    .dataframe tbody tr th:only-of-type {\n",
       "        vertical-align: middle;\n",
       "    }\n",
       "\n",
       "    .dataframe tbody tr th {\n",
       "        vertical-align: top;\n",
       "    }\n",
       "\n",
       "    .dataframe thead th {\n",
       "        text-align: right;\n",
       "    }\n",
       "</style>\n",
       "<table border=\"1\" class=\"dataframe\">\n",
       "  <thead>\n",
       "    <tr style=\"text-align: right;\">\n",
       "      <th></th>\n",
       "      <th>Height</th>\n",
       "      <th>Weight</th>\n",
       "      <th>Index</th>\n",
       "    </tr>\n",
       "    <tr>\n",
       "      <th>Gender</th>\n",
       "      <th></th>\n",
       "      <th></th>\n",
       "      <th></th>\n",
       "    </tr>\n",
       "  </thead>\n",
       "  <tbody>\n",
       "    <tr>\n",
       "      <th>Male</th>\n",
       "      <td>174</td>\n",
       "      <td>96</td>\n",
       "      <td>4</td>\n",
       "    </tr>\n",
       "    <tr>\n",
       "      <th>Male</th>\n",
       "      <td>189</td>\n",
       "      <td>87</td>\n",
       "      <td>2</td>\n",
       "    </tr>\n",
       "    <tr>\n",
       "      <th>Female</th>\n",
       "      <td>185</td>\n",
       "      <td>110</td>\n",
       "      <td>4</td>\n",
       "    </tr>\n",
       "    <tr>\n",
       "      <th>Female</th>\n",
       "      <td>195</td>\n",
       "      <td>104</td>\n",
       "      <td>3</td>\n",
       "    </tr>\n",
       "    <tr>\n",
       "      <th>Male</th>\n",
       "      <td>149</td>\n",
       "      <td>61</td>\n",
       "      <td>3</td>\n",
       "    </tr>\n",
       "  </tbody>\n",
       "</table>\n",
       "</div>"
      ],
      "text/plain": [
       "        Height  Weight  Index\n",
       "Gender                       \n",
       "Male       174      96      4\n",
       "Male       189      87      2\n",
       "Female     185     110      4\n",
       "Female     195     104      3\n",
       "Male       149      61      3"
      ]
     },
     "execution_count": 2,
     "metadata": {},
     "output_type": "execute_result"
    }
   ],
   "source": [
    "# load the CSV file\n",
    "\n",
    "df = pd.read_csv('500_Person_Gender_Height_Weight_Index.csv').set_index('Gender')\n",
    "df.head()"
   ]
  },
  {
   "cell_type": "code",
   "execution_count": 3,
   "id": "510da948",
   "metadata": {},
   "outputs": [
    {
     "name": "stdout",
     "output_type": "stream",
     "text": [
      "Column Height has 0 null values\n",
      "Column Weight has 0 null values\n",
      "Column Index has 0 null values\n"
     ]
    }
   ],
   "source": [
    "# check for null values\n",
    "\n",
    "for column in df.columns:\n",
    "    print(f\"Column {column} has {df[column].isnull().sum()} null values\")\n"
   ]
  },
  {
   "cell_type": "code",
   "execution_count": 4,
   "id": "e8536503",
   "metadata": {},
   "outputs": [
    {
     "data": {
      "text/plain": [
       "array([4, 2, 3, 5, 1, 0])"
      ]
     },
     "execution_count": 4,
     "metadata": {},
     "output_type": "execute_result"
    }
   ],
   "source": [
    "# check the unique values in \"Index\" column\n",
    "\n",
    "df['Index'].unique()"
   ]
  },
  {
   "cell_type": "code",
   "execution_count": 5,
   "id": "0d2ca0e2",
   "metadata": {},
   "outputs": [],
   "source": [
    "# separate the indices into two categories: 'Normal' and 'At_risk'\n",
    "\n",
    "x = {2: 'Normal'}\n",
    "df = df.replace(x)\n",
    "\n",
    "\n",
    "x = dict.fromkeys([0,1,3,4,5], 'At_Risk')  # dict.fromkeys used here, otherwise \"not-hashable\" error appears\n",
    "df = df.replace(x)\n"
   ]
  },
  {
   "cell_type": "code",
   "execution_count": 6,
   "id": "aaeeb1e0",
   "metadata": {},
   "outputs": [
    {
     "data": {
      "text/html": [
       "<div>\n",
       "<style scoped>\n",
       "    .dataframe tbody tr th:only-of-type {\n",
       "        vertical-align: middle;\n",
       "    }\n",
       "\n",
       "    .dataframe tbody tr th {\n",
       "        vertical-align: top;\n",
       "    }\n",
       "\n",
       "    .dataframe thead th {\n",
       "        text-align: right;\n",
       "    }\n",
       "</style>\n",
       "<table border=\"1\" class=\"dataframe\">\n",
       "  <thead>\n",
       "    <tr style=\"text-align: right;\">\n",
       "      <th></th>\n",
       "      <th>Height</th>\n",
       "      <th>Weight</th>\n",
       "      <th>Index</th>\n",
       "    </tr>\n",
       "    <tr>\n",
       "      <th>Gender</th>\n",
       "      <th></th>\n",
       "      <th></th>\n",
       "      <th></th>\n",
       "    </tr>\n",
       "  </thead>\n",
       "  <tbody>\n",
       "    <tr>\n",
       "      <th>Male</th>\n",
       "      <td>174</td>\n",
       "      <td>96</td>\n",
       "      <td>At_Risk</td>\n",
       "    </tr>\n",
       "    <tr>\n",
       "      <th>Male</th>\n",
       "      <td>189</td>\n",
       "      <td>87</td>\n",
       "      <td>Normal</td>\n",
       "    </tr>\n",
       "    <tr>\n",
       "      <th>Female</th>\n",
       "      <td>185</td>\n",
       "      <td>110</td>\n",
       "      <td>At_Risk</td>\n",
       "    </tr>\n",
       "    <tr>\n",
       "      <th>Female</th>\n",
       "      <td>195</td>\n",
       "      <td>104</td>\n",
       "      <td>At_Risk</td>\n",
       "    </tr>\n",
       "    <tr>\n",
       "      <th>Male</th>\n",
       "      <td>149</td>\n",
       "      <td>61</td>\n",
       "      <td>At_Risk</td>\n",
       "    </tr>\n",
       "    <tr>\n",
       "      <th>...</th>\n",
       "      <td>...</td>\n",
       "      <td>...</td>\n",
       "      <td>...</td>\n",
       "    </tr>\n",
       "    <tr>\n",
       "      <th>Female</th>\n",
       "      <td>150</td>\n",
       "      <td>153</td>\n",
       "      <td>At_Risk</td>\n",
       "    </tr>\n",
       "    <tr>\n",
       "      <th>Female</th>\n",
       "      <td>184</td>\n",
       "      <td>121</td>\n",
       "      <td>At_Risk</td>\n",
       "    </tr>\n",
       "    <tr>\n",
       "      <th>Female</th>\n",
       "      <td>141</td>\n",
       "      <td>136</td>\n",
       "      <td>At_Risk</td>\n",
       "    </tr>\n",
       "    <tr>\n",
       "      <th>Male</th>\n",
       "      <td>150</td>\n",
       "      <td>95</td>\n",
       "      <td>At_Risk</td>\n",
       "    </tr>\n",
       "    <tr>\n",
       "      <th>Male</th>\n",
       "      <td>173</td>\n",
       "      <td>131</td>\n",
       "      <td>At_Risk</td>\n",
       "    </tr>\n",
       "  </tbody>\n",
       "</table>\n",
       "<p>500 rows × 3 columns</p>\n",
       "</div>"
      ],
      "text/plain": [
       "        Height  Weight    Index\n",
       "Gender                         \n",
       "Male       174      96  At_Risk\n",
       "Male       189      87   Normal\n",
       "Female     185     110  At_Risk\n",
       "Female     195     104  At_Risk\n",
       "Male       149      61  At_Risk\n",
       "...        ...     ...      ...\n",
       "Female     150     153  At_Risk\n",
       "Female     184     121  At_Risk\n",
       "Female     141     136  At_Risk\n",
       "Male       150      95  At_Risk\n",
       "Male       173     131  At_Risk\n",
       "\n",
       "[500 rows x 3 columns]"
      ]
     },
     "execution_count": 6,
     "metadata": {},
     "output_type": "execute_result"
    }
   ],
   "source": [
    "df"
   ]
  },
  {
   "cell_type": "code",
   "execution_count": 7,
   "id": "d0427802",
   "metadata": {},
   "outputs": [],
   "source": [
    "# create features and target variables\n",
    "\n",
    "X = pd.get_dummies(df.drop(columns = 'Index'))\n",
    "y = df['Index']"
   ]
  },
  {
   "cell_type": "code",
   "execution_count": 8,
   "id": "2b95f59e",
   "metadata": {},
   "outputs": [
    {
     "data": {
      "text/html": [
       "<div>\n",
       "<style scoped>\n",
       "    .dataframe tbody tr th:only-of-type {\n",
       "        vertical-align: middle;\n",
       "    }\n",
       "\n",
       "    .dataframe tbody tr th {\n",
       "        vertical-align: top;\n",
       "    }\n",
       "\n",
       "    .dataframe thead th {\n",
       "        text-align: right;\n",
       "    }\n",
       "</style>\n",
       "<table border=\"1\" class=\"dataframe\">\n",
       "  <thead>\n",
       "    <tr style=\"text-align: right;\">\n",
       "      <th></th>\n",
       "      <th>Height</th>\n",
       "      <th>Weight</th>\n",
       "    </tr>\n",
       "    <tr>\n",
       "      <th>Gender</th>\n",
       "      <th></th>\n",
       "      <th></th>\n",
       "    </tr>\n",
       "  </thead>\n",
       "  <tbody>\n",
       "    <tr>\n",
       "      <th>Male</th>\n",
       "      <td>174</td>\n",
       "      <td>96</td>\n",
       "    </tr>\n",
       "    <tr>\n",
       "      <th>Male</th>\n",
       "      <td>189</td>\n",
       "      <td>87</td>\n",
       "    </tr>\n",
       "    <tr>\n",
       "      <th>Female</th>\n",
       "      <td>185</td>\n",
       "      <td>110</td>\n",
       "    </tr>\n",
       "    <tr>\n",
       "      <th>Female</th>\n",
       "      <td>195</td>\n",
       "      <td>104</td>\n",
       "    </tr>\n",
       "    <tr>\n",
       "      <th>Male</th>\n",
       "      <td>149</td>\n",
       "      <td>61</td>\n",
       "    </tr>\n",
       "  </tbody>\n",
       "</table>\n",
       "</div>"
      ],
      "text/plain": [
       "        Height  Weight\n",
       "Gender                \n",
       "Male       174      96\n",
       "Male       189      87\n",
       "Female     185     110\n",
       "Female     195     104\n",
       "Male       149      61"
      ]
     },
     "execution_count": 8,
     "metadata": {},
     "output_type": "execute_result"
    }
   ],
   "source": [
    "X.head()"
   ]
  },
  {
   "cell_type": "code",
   "execution_count": 9,
   "id": "25f3ec3e",
   "metadata": {},
   "outputs": [
    {
     "data": {
      "text/html": [
       "<div>\n",
       "<style scoped>\n",
       "    .dataframe tbody tr th:only-of-type {\n",
       "        vertical-align: middle;\n",
       "    }\n",
       "\n",
       "    .dataframe tbody tr th {\n",
       "        vertical-align: top;\n",
       "    }\n",
       "\n",
       "    .dataframe thead th {\n",
       "        text-align: right;\n",
       "    }\n",
       "</style>\n",
       "<table border=\"1\" class=\"dataframe\">\n",
       "  <thead>\n",
       "    <tr style=\"text-align: right;\">\n",
       "      <th></th>\n",
       "      <th>Height</th>\n",
       "      <th>Weight</th>\n",
       "    </tr>\n",
       "  </thead>\n",
       "  <tbody>\n",
       "    <tr>\n",
       "      <th>count</th>\n",
       "      <td>500.000000</td>\n",
       "      <td>500.000000</td>\n",
       "    </tr>\n",
       "    <tr>\n",
       "      <th>mean</th>\n",
       "      <td>169.944000</td>\n",
       "      <td>106.000000</td>\n",
       "    </tr>\n",
       "    <tr>\n",
       "      <th>std</th>\n",
       "      <td>16.375261</td>\n",
       "      <td>32.382607</td>\n",
       "    </tr>\n",
       "    <tr>\n",
       "      <th>min</th>\n",
       "      <td>140.000000</td>\n",
       "      <td>50.000000</td>\n",
       "    </tr>\n",
       "    <tr>\n",
       "      <th>25%</th>\n",
       "      <td>156.000000</td>\n",
       "      <td>80.000000</td>\n",
       "    </tr>\n",
       "    <tr>\n",
       "      <th>50%</th>\n",
       "      <td>170.500000</td>\n",
       "      <td>106.000000</td>\n",
       "    </tr>\n",
       "    <tr>\n",
       "      <th>75%</th>\n",
       "      <td>184.000000</td>\n",
       "      <td>136.000000</td>\n",
       "    </tr>\n",
       "    <tr>\n",
       "      <th>max</th>\n",
       "      <td>199.000000</td>\n",
       "      <td>160.000000</td>\n",
       "    </tr>\n",
       "  </tbody>\n",
       "</table>\n",
       "</div>"
      ],
      "text/plain": [
       "           Height      Weight\n",
       "count  500.000000  500.000000\n",
       "mean   169.944000  106.000000\n",
       "std     16.375261   32.382607\n",
       "min    140.000000   50.000000\n",
       "25%    156.000000   80.000000\n",
       "50%    170.500000  106.000000\n",
       "75%    184.000000  136.000000\n",
       "max    199.000000  160.000000"
      ]
     },
     "execution_count": 9,
     "metadata": {},
     "output_type": "execute_result"
    }
   ],
   "source": [
    "# describe df\n",
    "\n",
    "df.describe()"
   ]
  },
  {
   "cell_type": "code",
   "execution_count": 10,
   "id": "e3a1e2f5",
   "metadata": {},
   "outputs": [
    {
     "data": {
      "text/plain": [
       "At_Risk    431\n",
       "Normal      69\n",
       "Name: Index, dtype: int64"
      ]
     },
     "execution_count": 10,
     "metadata": {},
     "output_type": "execute_result"
    }
   ],
   "source": [
    "# y value counts\n",
    "\n",
    "y.value_counts()"
   ]
  },
  {
   "cell_type": "code",
   "execution_count": 11,
   "id": "81ffe555",
   "metadata": {},
   "outputs": [
    {
     "data": {
      "text/plain": [
       "(375, 2)"
      ]
     },
     "execution_count": 11,
     "metadata": {},
     "output_type": "execute_result"
    }
   ],
   "source": [
    "# train all the variables (x/y, test/train)\n",
    "\n",
    "from sklearn.model_selection import train_test_split\n",
    "X_train, X_test, y_train, y_test = train_test_split(X, y, random_state=1, stratify=y)\n",
    " \n",
    "X_train.shape"
   ]
  },
  {
   "cell_type": "markdown",
   "id": "eb1404b5",
   "metadata": {},
   "source": [
    "### Oversampling\n",
    "In this section, I compared two oversampling algorithms to determine which algorithm results in the best performance. I oversample the data using the naive random oversampling algorithm and the SMOTE algorithm. For each algorithm, the folliowing steps were completed:\n",
    "\n",
    "View the count of the target classes using Counter from the collections library. Use the resampled data to train a logistic regression model. Calculate the balanced accuracy score from sklearn.metrics. Print the confusion matrix from sklearn.metrics. Generate a classication report using the imbalanced_classification_report from imbalanced-learn. Note: A random state of 1 for each sampling algorithm is used to ensure consistency between tests."
   ]
  },
  {
   "cell_type": "markdown",
   "id": "f5adeb8e",
   "metadata": {},
   "source": [
    "#### Naive Random Oversampling "
   ]
  },
  {
   "cell_type": "code",
   "execution_count": 12,
   "id": "009d93a2",
   "metadata": {},
   "outputs": [
    {
     "data": {
      "text/plain": [
       "Counter({'At_Risk': 323, 'Normal': 323})"
      ]
     },
     "execution_count": 12,
     "metadata": {},
     "output_type": "execute_result"
    }
   ],
   "source": [
    "# Resample the training data with the RandomOversampler\n",
    "\n",
    "from imblearn.over_sampling import RandomOverSampler\n",
    "naive_model = RandomOverSampler(random_state=1)\n",
    "naive_X_resampled, naive_y_resampled = naive_model.fit_resample(X_train, y_train)\n",
    "Counter(naive_y_resampled)  # no need for naive_model again after applied to the training variables"
   ]
  },
  {
   "cell_type": "code",
   "execution_count": 13,
   "id": "be1db7a2",
   "metadata": {},
   "outputs": [
    {
     "data": {
      "text/plain": [
       "LogisticRegression(random_state=1)"
      ]
     },
     "execution_count": 13,
     "metadata": {},
     "output_type": "execute_result"
    }
   ],
   "source": [
    "# train the logistic regression model with X/y resampled variables\n",
    "\n",
    "from sklearn.linear_model import LogisticRegression \n",
    "naive_lr_model = LogisticRegression(solver='lbfgs', random_state=1)\n",
    "naive_lr_model.fit(naive_X_resampled, naive_y_resampled)"
   ]
  },
  {
   "cell_type": "code",
   "execution_count": 14,
   "id": "978dcc49",
   "metadata": {},
   "outputs": [],
   "source": [
    "# predict\n",
    "\n",
    "naive_y_pred = naive_lr_model.predict(X_test)"
   ]
  },
  {
   "cell_type": "code",
   "execution_count": 15,
   "id": "ac73b90d",
   "metadata": {},
   "outputs": [
    {
     "data": {
      "text/plain": [
       "0.7446236559139785"
      ]
     },
     "execution_count": 15,
     "metadata": {},
     "output_type": "execute_result"
    }
   ],
   "source": [
    "# calculate the balanced accuracy_score\n",
    "\n",
    "naive_acc_score = balanced_accuracy_score(naive_y_pred, y_test)\n",
    "naive_acc_score"
   ]
  },
  {
   "cell_type": "code",
   "execution_count": 16,
   "id": "4111b2d6",
   "metadata": {},
   "outputs": [
    {
     "data": {
      "text/plain": [
       "array([[92,  1],\n",
       "       [16, 16]])"
      ]
     },
     "execution_count": 16,
     "metadata": {},
     "output_type": "execute_result"
    }
   ],
   "source": [
    "# confusion matrix\n",
    "\n",
    "confusion_matrix(naive_y_pred, y_test)"
   ]
  },
  {
   "cell_type": "code",
   "execution_count": 17,
   "id": "ea0d7c41",
   "metadata": {},
   "outputs": [
    {
     "name": "stdout",
     "output_type": "stream",
     "text": [
      "                   pre       rec       spe        f1       geo       iba       sup\n",
      "\n",
      "    At_Risk       0.85      0.99      0.50      0.92      0.70      0.52        93\n",
      "     Normal       0.94      0.50      0.99      0.65      0.70      0.47        32\n",
      "\n",
      "avg / total       0.87      0.86      0.63      0.85      0.70      0.51       125\n",
      "\n"
     ]
    }
   ],
   "source": [
    "# imbalanced classification report\n",
    "print(classification_report_imbalanced(naive_y_pred, y_test))"
   ]
  },
  {
   "cell_type": "code",
   "execution_count": null,
   "id": "3daba0c4",
   "metadata": {},
   "outputs": [],
   "source": []
  },
  {
   "cell_type": "markdown",
   "id": "c491e0b9",
   "metadata": {},
   "source": [
    "#### SMOTE Oversampling"
   ]
  },
  {
   "cell_type": "code",
   "execution_count": 18,
   "id": "32d041ff",
   "metadata": {},
   "outputs": [],
   "source": [
    "# import SMOTE classifier\n",
    "from imblearn.over_sampling import SMOTE"
   ]
  },
  {
   "cell_type": "code",
   "execution_count": 19,
   "id": "41214fba",
   "metadata": {},
   "outputs": [],
   "source": [
    "# define the classifier\n",
    "smote_model = SMOTE(random_state=1)"
   ]
  },
  {
   "cell_type": "code",
   "execution_count": 20,
   "id": "1fc17a6f",
   "metadata": {},
   "outputs": [],
   "source": [
    "# apply the classifier to X/y training variables\n",
    "smote_X_resampled, smote_y_resampled = smote_model.fit_resample(X_train, y_train)"
   ]
  },
  {
   "cell_type": "code",
   "execution_count": 21,
   "id": "700c54ad",
   "metadata": {},
   "outputs": [],
   "source": [
    "# fit LR model with resampled variables\n",
    "from sklearn.linear_model import LogisticRegression\n",
    "smote_lr_model = LogisticRegression(solver='lbfgs', random_state=1).fit(smote_X_resampled, smote_y_resampled)"
   ]
  },
  {
   "cell_type": "code",
   "execution_count": 22,
   "id": "33a78d81",
   "metadata": {},
   "outputs": [],
   "source": [
    "# predict\n",
    "smote_y_pred = smote_lr_model.predict(X_test)"
   ]
  },
  {
   "cell_type": "code",
   "execution_count": 23,
   "id": "a065a55a",
   "metadata": {},
   "outputs": [
    {
     "data": {
      "text/plain": [
       "0.7446236559139785"
      ]
     },
     "execution_count": 23,
     "metadata": {},
     "output_type": "execute_result"
    }
   ],
   "source": [
    "# balanced accuracy score\n",
    "\n",
    "smote_acc_score = balanced_accuracy_score(smote_y_pred, y_test)\n",
    "smote_acc_score"
   ]
  },
  {
   "cell_type": "code",
   "execution_count": 24,
   "id": "55dbfe7d",
   "metadata": {},
   "outputs": [
    {
     "data": {
      "text/plain": [
       "array([[92,  1],\n",
       "       [16, 16]])"
      ]
     },
     "execution_count": 24,
     "metadata": {},
     "output_type": "execute_result"
    }
   ],
   "source": [
    "# confusion matrix \n",
    "confusion_matrix(smote_y_pred, y_test)"
   ]
  },
  {
   "cell_type": "code",
   "execution_count": 25,
   "id": "6b31eb27",
   "metadata": {},
   "outputs": [
    {
     "name": "stdout",
     "output_type": "stream",
     "text": [
      "                   pre       rec       spe        f1       geo       iba       sup\n",
      "\n",
      "    At_Risk       0.85      0.99      0.50      0.92      0.70      0.52        93\n",
      "     Normal       0.94      0.50      0.99      0.65      0.70      0.47        32\n",
      "\n",
      "avg / total       0.87      0.86      0.63      0.85      0.70      0.51       125\n",
      "\n"
     ]
    }
   ],
   "source": [
    "# imbalanced classification report\n",
    "\n",
    "print(classification_report_imbalanced(smote_y_pred, y_test))"
   ]
  },
  {
   "cell_type": "markdown",
   "id": "8b09a8f8",
   "metadata": {},
   "source": [
    "### Undersampling\n",
    "In this section, I tested an undersampling algorithms to determine which algorithm results in the best performance compared to the oversampling algorithms above. I undersampled the data using the RandomUnderSampler algorithm and complete the following steps:\n",
    "\n",
    "Use the resampled data to train a logistic regression model.\n",
    "Calculate the balanced accuracy score from sklearn.metrics.\n",
    "Print the confusion matrix from sklearn.metrics.\n",
    "Generate a classication report using the imbalanced_classification_report from imbalanced-learn.\n",
    "\n",
    "Note: A random state of 1 for each sampling algorithm is used to ensure consistency between tests."
   ]
  },
  {
   "cell_type": "code",
   "execution_count": 26,
   "id": "d569c30c",
   "metadata": {},
   "outputs": [],
   "source": [
    "#import RandomUnderSampler\n",
    "from imblearn.under_sampling import RandomUnderSampler\n",
    "#define the classifier\n",
    "us_model = RandomUnderSampler(random_state=1)\n",
    "# train the classifier\n",
    "under_X_resampled, under_y_resampled = us_model.fit_resample(X_train, y_train)"
   ]
  },
  {
   "cell_type": "code",
   "execution_count": 27,
   "id": "c5c5a523",
   "metadata": {},
   "outputs": [],
   "source": [
    "# import Logistic Regression Model\n",
    "\n",
    "from sklearn.linear_model import LogisticRegression\n",
    "\n",
    "# define and train the LR model with the resampled variables \n",
    "\n",
    "under_lr_model = LogisticRegression(solver='lbfgs', random_state=1).fit(under_X_resampled, under_y_resampled)"
   ]
  },
  {
   "cell_type": "code",
   "execution_count": 28,
   "id": "0687c798",
   "metadata": {},
   "outputs": [],
   "source": [
    "# predict\n",
    "\n",
    "under_y_pred = under_lr_model.predict(X_test)"
   ]
  },
  {
   "cell_type": "code",
   "execution_count": 29,
   "id": "3f420f79",
   "metadata": {},
   "outputs": [
    {
     "data": {
      "text/plain": [
       "0.75"
      ]
     },
     "execution_count": 29,
     "metadata": {},
     "output_type": "execute_result"
    }
   ],
   "source": [
    "# accuracy score\n",
    "\n",
    "under_acc_score = balanced_accuracy_score(under_y_pred, y_test)\n",
    "under_acc_score"
   ]
  },
  {
   "cell_type": "code",
   "execution_count": 30,
   "id": "36a400eb",
   "metadata": {},
   "outputs": [
    {
     "data": {
      "text/plain": [
       "array([[91,  0],\n",
       "       [17, 17]])"
      ]
     },
     "execution_count": 30,
     "metadata": {},
     "output_type": "execute_result"
    }
   ],
   "source": [
    "# confusion matrix\n",
    "\n",
    "confusion_matrix(under_y_pred, y_test)"
   ]
  },
  {
   "cell_type": "code",
   "execution_count": 31,
   "id": "a2473597",
   "metadata": {},
   "outputs": [
    {
     "name": "stdout",
     "output_type": "stream",
     "text": [
      "                   pre       rec       spe        f1       geo       iba       sup\n",
      "\n",
      "    At_Risk       0.84      1.00      0.50      0.91      0.71      0.53        91\n",
      "     Normal       1.00      0.50      1.00      0.67      0.71      0.48        34\n",
      "\n",
      "avg / total       0.89      0.86      0.64      0.85      0.71      0.51       125\n",
      "\n"
     ]
    }
   ],
   "source": [
    "# imbalanced classification report\n",
    "\n",
    "print(classification_report_imbalanced(under_y_pred, y_test))"
   ]
  },
  {
   "cell_type": "markdown",
   "id": "ee0b5fe1",
   "metadata": {},
   "source": [
    "### Combination (Over and Under) Sampling\n",
    "In this section, I tested a combination over- and under-sampling algorithm to determine if the algorithm results in the best performance compared to the other sampling algorithms above. I resampled the data using the SMOTEENN algorithm and complete the folliowing steps:\n",
    "\n",
    "Use the resampled data to train a logistic regression model.\n",
    "Calculate the balanced accuracy score from sklearn.metrics.\n",
    "Print the confusion matrix from sklearn.metrics.\n",
    "Generate a classication report using the imbalanced_classification_report from imbalanced-learn.\n",
    "\n",
    "Note: A random state of 1 for each sampling algorithm isde to ensure consistency between tests."
   ]
  },
  {
   "cell_type": "code",
   "execution_count": 32,
   "id": "70b66d96",
   "metadata": {},
   "outputs": [],
   "source": [
    "# import smotteen\n",
    "from imblearn.combine import SMOTEENN\n",
    "# define the classifier\n",
    "smoteenn_model = SMOTEENN(random_state=1)\n",
    "# fit the classifier\n",
    "comb_X_resampled, comb_y_resampled = smoteenn_model.fit_resample(X_train, y_train)"
   ]
  },
  {
   "cell_type": "code",
   "execution_count": 33,
   "id": "bf2a6025",
   "metadata": {},
   "outputs": [],
   "source": [
    "# import logistic regression model\n",
    "from sklearn.linear_model import LogisticRegression\n",
    "# define and fit the model\n",
    "comb_lr_model = LogisticRegression(solver='lbfgs', random_state=1).fit(comb_X_resampled, comb_y_resampled)"
   ]
  },
  {
   "cell_type": "code",
   "execution_count": 34,
   "id": "932a5c0f",
   "metadata": {},
   "outputs": [],
   "source": [
    "# predict\n",
    "\n",
    "comb_y_pred = comb_lr_model.predict(X_test)"
   ]
  },
  {
   "cell_type": "code",
   "execution_count": 35,
   "id": "40f4864b",
   "metadata": {},
   "outputs": [
    {
     "data": {
      "text/plain": [
       "0.75"
      ]
     },
     "execution_count": 35,
     "metadata": {},
     "output_type": "execute_result"
    }
   ],
   "source": [
    "# accuracy score\n",
    "\n",
    "comb_acc_score = balanced_accuracy_score(comb_y_pred, y_test)\n",
    "comb_acc_score"
   ]
  },
  {
   "cell_type": "code",
   "execution_count": 36,
   "id": "3a4435ee",
   "metadata": {},
   "outputs": [
    {
     "data": {
      "text/plain": [
       "array([[91,  0],\n",
       "       [17, 17]])"
      ]
     },
     "execution_count": 36,
     "metadata": {},
     "output_type": "execute_result"
    }
   ],
   "source": [
    "# confusion matrix\n",
    "\n",
    "confusion_matrix(comb_y_pred, y_test)"
   ]
  },
  {
   "cell_type": "code",
   "execution_count": 37,
   "id": "ce8adb8f",
   "metadata": {},
   "outputs": [
    {
     "name": "stdout",
     "output_type": "stream",
     "text": [
      "                   pre       rec       spe        f1       geo       iba       sup\n",
      "\n",
      "    At_Risk       0.84      1.00      0.50      0.91      0.71      0.53        91\n",
      "     Normal       1.00      0.50      1.00      0.67      0.71      0.48        34\n",
      "\n",
      "avg / total       0.89      0.86      0.64      0.85      0.71      0.51       125\n",
      "\n"
     ]
    }
   ],
   "source": [
    "# imbalanced classification report\n",
    "\n",
    "print(classification_report_imbalanced(comb_y_pred, y_test))"
   ]
  },
  {
   "cell_type": "code",
   "execution_count": null,
   "id": "d91fed6c",
   "metadata": {},
   "outputs": [],
   "source": []
  }
 ],
 "metadata": {
  "kernelspec": {
   "display_name": "Python 3 (ipykernel)",
   "language": "python",
   "name": "python3"
  },
  "language_info": {
   "codemirror_mode": {
    "name": "ipython",
    "version": 3
   },
   "file_extension": ".py",
   "mimetype": "text/x-python",
   "name": "python",
   "nbconvert_exporter": "python",
   "pygments_lexer": "ipython3",
   "version": "3.7.11"
  }
 },
 "nbformat": 4,
 "nbformat_minor": 5
}
